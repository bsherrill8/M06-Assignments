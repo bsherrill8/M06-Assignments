{
 "cells": [
  {
   "cell_type": "markdown",
   "metadata": {},
   "source": [
    "13.1\n",
    "Text file created"
   ]
  },
  {
   "cell_type": "markdown",
   "metadata": {},
   "source": [
    "13.2"
   ]
  },
  {
   "cell_type": "code",
   "execution_count": 4,
   "metadata": {},
   "outputs": [
    {
     "name": "stdout",
     "output_type": "stream",
     "text": [
      "10/02/2022\n"
     ]
    }
   ],
   "source": [
    "file = open(\"today.txt\", \"r\")\n",
    "today = file.read()\n",
    "file.close()\n",
    "print(today)"
   ]
  },
  {
   "cell_type": "markdown",
   "metadata": {},
   "source": [
    "13.3"
   ]
  },
  {
   "cell_type": "code",
   "execution_count": 6,
   "metadata": {},
   "outputs": [
    {
     "data": {
      "text/plain": [
       "time.struct_time(tm_year=2022, tm_mon=10, tm_mday=2, tm_hour=0, tm_min=0, tm_sec=0, tm_wday=6, tm_yday=275, tm_isdst=-1)"
      ]
     },
     "execution_count": 6,
     "metadata": {},
     "output_type": "execute_result"
    }
   ],
   "source": [
    "import time\n",
    "fmt = \"%m/%d/%Y\"\n",
    "time.strp(today, fmt)"
   ]
  },
  {
   "cell_type": "markdown",
   "metadata": {},
   "source": [
    "15.1"
   ]
  },
  {
   "cell_type": "code",
   "execution_count": 9,
   "metadata": {},
   "outputs": [
    {
     "name": "stdout",
     "output_type": "stream",
     "text": [
      "Process 1 :\n",
      "Sun Oct  2 20:59:18 2022\n",
      "Process 2 :\n",
      "Sun Oct  2 20:59:18 2022\n",
      "Process 3 :\n",
      "Sun Oct  2 20:59:19 2022\n"
     ]
    }
   ],
   "source": [
    "import multiprocessing\n",
    "import random\n",
    "import time\n",
    "\n",
    "def wait():\n",
    "    time.sleep(random.randint(0,1))\n",
    "    print(time.ctime(time.time()))\n",
    "\n",
    "for i in range(3):\n",
    "    print(\"Process\", i + 1, \":\")\n",
    "    func = multiprocessing.Process(target = wait())\n",
    "    func.start()\n"
   ]
  }
 ],
 "metadata": {
  "kernelspec": {
   "display_name": "Python 3.10.6 64-bit",
   "language": "python",
   "name": "python3"
  },
  "language_info": {
   "codemirror_mode": {
    "name": "ipython",
    "version": 3
   },
   "file_extension": ".py",
   "mimetype": "text/x-python",
   "name": "python",
   "nbconvert_exporter": "python",
   "pygments_lexer": "ipython3",
   "version": "3.10.6"
  },
  "orig_nbformat": 4,
  "vscode": {
   "interpreter": {
    "hash": "5dabdb4b17ffff414631049cb6a2c1e4543eed0913a4a3d2753318eb869e4cfb"
   }
  }
 },
 "nbformat": 4,
 "nbformat_minor": 2
}
